{
 "cells": [
  {
   "cell_type": "code",
   "execution_count": 1,
   "metadata": {},
   "outputs": [],
   "source": [
    "#import lib's\n",
    "from math import sin\n",
    "from datetime import datetime\n",
    "from datetime import timedelta\n",
    "from decimal import Decimal\n",
    "import pandas as pd\n"
   ]
  },
  {
   "cell_type": "code",
   "execution_count": 2,
   "metadata": {},
   "outputs": [],
   "source": [
    "samplePeriod = 30;  # 1/2 hour\n",
    "dailyPoints = (60 * 24) / samplePeriod;  #(minutes * hours_per_day) / (1/2 hour) \n"
   ]
  },
  {
   "cell_type": "code",
   "execution_count": 3,
   "metadata": {},
   "outputs": [],
   "source": [
    "def uber_multi(x):\n",
    "    amp = (10 - 1)/2\n",
    "    offset = amp + 1\n",
    "    out = round( amp*sin(x) + offset,1) #this is give use a 1 to 10 multipler \n",
    "    return( out ) \n",
    "    "
   ]
  },
  {
   "cell_type": "code",
   "execution_count": 4,
   "metadata": {},
   "outputs": [
    {
     "name": "stdout",
     "output_type": "stream",
     "text": [
      "2018-07-30 18:35:51.959966\n",
      "2018-07-30 19:05:51.959966\n"
     ]
    }
   ],
   "source": [
    "startDate =  datetime.now()\n",
    "print(startDate)\n",
    "print (startDate + timedelta(minutes=30))"
   ]
  },
  {
   "cell_type": "code",
   "execution_count": 5,
   "metadata": {},
   "outputs": [
    {
     "data": {
      "text/html": [
       "<div>\n",
       "<style scoped>\n",
       "    .dataframe tbody tr th:only-of-type {\n",
       "        vertical-align: middle;\n",
       "    }\n",
       "\n",
       "    .dataframe tbody tr th {\n",
       "        vertical-align: top;\n",
       "    }\n",
       "\n",
       "    .dataframe thead th {\n",
       "        text-align: right;\n",
       "    }\n",
       "</style>\n",
       "<table border=\"1\" class=\"dataframe\">\n",
       "  <thead>\n",
       "    <tr style=\"text-align: right;\">\n",
       "      <th></th>\n",
       "      <th>Multiplier</th>\n",
       "      <th>StartTime</th>\n",
       "    </tr>\n",
       "  </thead>\n",
       "  <tbody>\n",
       "    <tr>\n",
       "      <th>0</th>\n",
       "      <td>5.5</td>\n",
       "      <td>2018-07-30 18:35:56.749534</td>\n",
       "    </tr>\n",
       "    <tr>\n",
       "      <th>1</th>\n",
       "      <td>9.3</td>\n",
       "      <td>2018-07-30 19:05:56.749534</td>\n",
       "    </tr>\n",
       "    <tr>\n",
       "      <th>2</th>\n",
       "      <td>9.6</td>\n",
       "      <td>2018-07-30 19:35:56.749534</td>\n",
       "    </tr>\n",
       "    <tr>\n",
       "      <th>3</th>\n",
       "      <td>6.1</td>\n",
       "      <td>2018-07-30 20:05:56.749534</td>\n",
       "    </tr>\n",
       "    <tr>\n",
       "      <th>4</th>\n",
       "      <td>2.1</td>\n",
       "      <td>2018-07-30 20:35:56.749534</td>\n",
       "    </tr>\n",
       "  </tbody>\n",
       "</table>\n",
       "</div>"
      ],
      "text/plain": [
       "   Multiplier                  StartTime\n",
       "0         5.5 2018-07-30 18:35:56.749534\n",
       "1         9.3 2018-07-30 19:05:56.749534\n",
       "2         9.6 2018-07-30 19:35:56.749534\n",
       "3         6.1 2018-07-30 20:05:56.749534\n",
       "4         2.1 2018-07-30 20:35:56.749534"
      ]
     },
     "execution_count": 5,
     "metadata": {},
     "output_type": "execute_result"
    }
   ],
   "source": [
    "output = {}\n",
    "output[\"Multiplier\"] = []\n",
    "output[\"StartTime\"] = []\n",
    "startTime = datetime.now()\n",
    "for samplePoint in range(int(dailyPoints)):\n",
    "    output[\"Multiplier\"].append(uber_multi(samplePoint))\n",
    "    output[\"StartTime\"].append(startTime)\n",
    "    startTime = startTime + timedelta(minutes=samplePeriod)\n",
    "    \n",
    "outputData = pd.DataFrame.from_dict(output)\n",
    "outputData.head()"
   ]
  },
  {
   "cell_type": "code",
   "execution_count": null,
   "metadata": {},
   "outputs": [],
   "source": []
  }
 ],
 "metadata": {
  "kernelspec": {
   "display_name": "Python 3",
   "language": "python",
   "name": "python3"
  },
  "language_info": {
   "codemirror_mode": {
    "name": "ipython",
    "version": 3
   },
   "file_extension": ".py",
   "mimetype": "text/x-python",
   "name": "python",
   "nbconvert_exporter": "python",
   "pygments_lexer": "ipython3",
   "version": "3.6.4"
  }
 },
 "nbformat": 4,
 "nbformat_minor": 2
}
