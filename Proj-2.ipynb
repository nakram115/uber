{
 "cells": [
  {
   "cell_type": "code",
   "execution_count": 1,
   "metadata": {},
   "outputs": [],
   "source": [
    "#imports\n",
    "from datetime import datetime\n",
    "from datetime import timedelta\n",
    "import pandas as pd\n",
    "import csv\n",
    "import numpy as np\n"
   ]
  },
  {
   "cell_type": "code",
   "execution_count": 2,
   "metadata": {},
   "outputs": [],
   "source": [
    "#globals\n",
    "startDate = None       # Start date to gather info from CSV \n",
    "duration = None        # how long after the start to collect data\n",
    "samplePeriod = 0       # window in with to sum up start times\n",
    "startDateTime = datetime.now()\n",
    "inputCSV = []           # alist of csv which includes start-time and which company\n",
    "outputCSV = \"UberOut\"   # if we we to stitch the inputCSV's into one CSV\n"
   ]
  },
  {
   "cell_type": "code",
   "execution_count": 3,
   "metadata": {},
   "outputs": [
    {
     "data": {
      "text/html": [
       "<div>\n",
       "<style scoped>\n",
       "    .dataframe tbody tr th:only-of-type {\n",
       "        vertical-align: middle;\n",
       "    }\n",
       "\n",
       "    .dataframe tbody tr th {\n",
       "        vertical-align: top;\n",
       "    }\n",
       "\n",
       "    .dataframe thead th {\n",
       "        text-align: right;\n",
       "    }\n",
       "</style>\n",
       "<table border=\"1\" class=\"dataframe\">\n",
       "  <thead>\n",
       "    <tr style=\"text-align: right;\">\n",
       "      <th></th>\n",
       "      <th>Dispatching_base_num</th>\n",
       "      <th>Pickup_DateTime</th>\n",
       "      <th>DropOff_datetime</th>\n",
       "      <th>PUlocationID</th>\n",
       "      <th>DOlocationID</th>\n",
       "    </tr>\n",
       "  </thead>\n",
       "  <tbody>\n",
       "    <tr>\n",
       "      <th>0</th>\n",
       "      <td>B00009</td>\n",
       "      <td>2017-12-01 00:00:00</td>\n",
       "      <td>2017-12-01 00:47:00</td>\n",
       "      <td>NaN</td>\n",
       "      <td>NaN</td>\n",
       "    </tr>\n",
       "    <tr>\n",
       "      <th>7133</th>\n",
       "      <td>B02686</td>\n",
       "      <td>2017-12-01 00:00:00</td>\n",
       "      <td>2017-12-01 01:10:00</td>\n",
       "      <td>NaN</td>\n",
       "      <td>NaN</td>\n",
       "    </tr>\n",
       "    <tr>\n",
       "      <th>7132</th>\n",
       "      <td>B02686</td>\n",
       "      <td>2017-12-01 00:00:00</td>\n",
       "      <td>2017-12-01 01:00:00</td>\n",
       "      <td>NaN</td>\n",
       "      <td>NaN</td>\n",
       "    </tr>\n",
       "    <tr>\n",
       "      <th>7131</th>\n",
       "      <td>B02686</td>\n",
       "      <td>2017-12-01 00:00:00</td>\n",
       "      <td>2017-12-01 01:00:00</td>\n",
       "      <td>NaN</td>\n",
       "      <td>NaN</td>\n",
       "    </tr>\n",
       "    <tr>\n",
       "      <th>7130</th>\n",
       "      <td>B02686</td>\n",
       "      <td>2017-12-01 00:00:00</td>\n",
       "      <td>2017-12-01 01:00:00</td>\n",
       "      <td>NaN</td>\n",
       "      <td>NaN</td>\n",
       "    </tr>\n",
       "  </tbody>\n",
       "</table>\n",
       "</div>"
      ],
      "text/plain": [
       "     Dispatching_base_num      Pickup_DateTime     DropOff_datetime  \\\n",
       "0                  B00009  2017-12-01 00:00:00  2017-12-01 00:47:00   \n",
       "7133               B02686  2017-12-01 00:00:00  2017-12-01 01:10:00   \n",
       "7132               B02686  2017-12-01 00:00:00  2017-12-01 01:00:00   \n",
       "7131               B02686  2017-12-01 00:00:00  2017-12-01 01:00:00   \n",
       "7130               B02686  2017-12-01 00:00:00  2017-12-01 01:00:00   \n",
       "\n",
       "      PUlocationID  DOlocationID  \n",
       "0              NaN           NaN  \n",
       "7133           NaN           NaN  \n",
       "7132           NaN           NaN  \n",
       "7131           NaN           NaN  \n",
       "7130           NaN           NaN  "
      ]
     },
     "execution_count": 3,
     "metadata": {},
     "output_type": "execute_result"
    }
   ],
   "source": [
    "fileName = \"fhv_tripdata_2017-12.csv\"\n",
    "df = pd.read_csv(fileName)\n",
    "df1 = df.sort_values('Pickup_DateTime')\n",
    "\n",
    "df1.head()\n"
   ]
  },
  {
   "cell_type": "code",
   "execution_count": 4,
   "metadata": {},
   "outputs": [],
   "source": [
    "df.head()\n",
    "df1.to_csv(\"sorted_fhv_tripdata_2017-12.csv\")"
   ]
  },
  {
   "cell_type": "markdown",
   "metadata": {
    "collapsed": true
   },
   "source": [
    "````\n",
    "dataF = {} #input\n",
    "samplePeriod = 0 #input\n",
    "dataF[\"NumberOfRequest\"] = []\n",
    "dataF[\"StartTime\"] = []\n",
    "sumBuffer = []\n",
    "totalCount = 0 #input\n",
    "totalCounter = 0\n",
    "start = True\n",
    "sumCounter = 0\n",
    "\n",
    "with open(inputCSV, newline='') as csvfile:\n",
    "    inputDataFile = csv.reader(csvfile, delimiter=' ', quotechar='|')\n",
    "    \n",
    "    for row in inputDataFile:\n",
    "        if(start):    # seed start date\n",
    "            currentDataTime = row-date\n",
    "            start = False\n",
    "        if (sumCounter < samplePeriod):\n",
    "            #sumBuffer.append(row-numberOfHits)\n",
    "        else:\n",
    "            dataF[\"NumberOfRequest\"] = sumBuffer.sum();\n",
    "            currentDateTime = currentDateTime + timeDelta(minutes = samplePeriod )\n",
    "            dataF[\"StartTime\"] = currentDateTime\n",
    "            sumBuffer.clear()\n",
    "            sumCounter = -1    # so index will start back to 0\n",
    "        sumCounter = sumCounter + 1  # last instruction in for row in datafile\n",
    "        totalCounter = totalCounter + 1\n",
    "        if (totalCounter > totalCount):\n",
    "            break   # break for loop\n",
    "            \n",
    "#return the number of processed row\n",
    "return ( totalCounter)\n",
    "````"
   ]
  },
  {
   "cell_type": "code",
   "execution_count": null,
   "metadata": {},
   "outputs": [],
   "source": []
  },
  {
   "cell_type": "code",
   "execution_count": 3,
   "metadata": {},
   "outputs": [],
   "source": [
    "def processCSV(inputCSV = None, dataF = None, samplePeriodInMinutes = None, numberOfSamples = None):\n",
    "    \n",
    "    \n",
    "    start = True \n",
    "    currentDateTime = datetime.now()\n",
    "    totalCounter = 0\n",
    "    selection = 2\n",
    "    sumCounter = 0\n",
    "    dummy = 0\n",
    "\n",
    "    dataF[\"StartTime\"]       = []    #add empyty Series\n",
    "    dataF[\"NumberOfRequest\"] = []    #add empyty Series\n",
    "    dataF[\"StartAsString\"] = []    #add empyty Series\n",
    "\n",
    "    with open(inputCSV, newline='') as csvfile:\n",
    "        inputDataFile = csv.reader(csvfile, delimiter=',', quotechar='|')\n",
    "        next(inputDataFile,None)\n",
    "        for row in inputDataFile:\n",
    "        \n",
    "            currentDateTime = datetime.strptime(row[ selection], \"%Y-%m-%d %H:%M:%S\")    \n",
    "        \n",
    "            if(start):    # seed start date\n",
    "                prevCurrentDateTime = currentDateTime\n",
    "                print(\"Started\")\n",
    "                start = False\n",
    "            if(currentDateTime > (prevCurrentDateTime + timedelta(minutes = samplePeriodInMinutes))):\n",
    "                #print('prevCurrentDateTime', prevCurrentDateTime)\n",
    "                prevCurrentDateTime = currentDateTime\n",
    "                dataF[\"StartTime\"].append( currentDateTime )\n",
    "                dataF[\"NumberOfRequest\"].append(sumCounter)\n",
    "                dataF[\"StartAsString\"].append(currentDateTime.strftime(\"%Y-%m-%d %H:%M:%S\"))\n",
    "                #print('currentDateTime', currentDateTime)\n",
    "                #print('sumCounter', sumCounter)\n",
    "                sumCounter = 0\n",
    "                totalCounter = totalCounter + 1\n",
    "            else:\n",
    "                sumCounter = sumCounter + 1\n",
    "                \n",
    "           \n",
    "            if(numberOfSamples < 0):\n",
    "                dummy = 0     #do nothing, process entire file\n",
    "            elif (totalCounter >= numberOfSamples):\n",
    "                break   # break for loop\n",
    "    print(dataF[\"NumberOfRequest\"])\n",
    "    #print(dataF[\"StartTime\"])\n",
    "    print(\"Size on Arrary \" + str(len(dataF[\"NumberOfRequest\"])))\n",
    "    return(totalCounter)\n"
   ]
  },
  {
   "cell_type": "code",
   "execution_count": 4,
   "metadata": {},
   "outputs": [
    {
     "name": "stdout",
     "output_type": "stream",
     "text": [
      "Started\n",
      "[22056, 13276, 8895, 6491, 7542, 10254, 18185, 31749, 37338, 32712, 27229, 25768, 26222, 27121, 28571, 30219, 31349, 37307, 42077, 42656, 42431, 41625, 43105, 43152, 38244, 29393, 21929, 16404, 13030, 9685, 11527, 16917, 21489, 25624, 27198, 28766, 30287, 31990, 32272, 33194, 35518, 40678, 44360, 46630, 44808, 43001, 44756, 46698, 43880, 36223, 27289, 19994, 14887, 10091, 10333, 12591, 15846, 22161, 27318, 30181, 31541, 31858, 32437, 32471, 33418, 33471, 33104, 31230, 28127, 27214, 25640, 20454, 13535, 7960, 5213, 4612, 7164, 11064, 19061, 32261, 37296, 31739, 25248, 23177, 22900, 23589, 25358, 27409, 28043, 32173, 34340, 31608, 30043, 28624, 26068, 20915, 14315, 8393, 5398, 4283, 6050, 9843, 18342, 32255, 37638, 31948, 25568, 23085, 23157, 24024, 26424, 29227, 29300, 34000, 37466, 43339, 46118, 44942, 37372, 28692, 16781, 9290, 5836, 4497, 6303, 9958, 18000, 32572, 37938, 33438, 26901, 24632, 24633, 25105, 27163, 28578, 30815, 36334, 40035, 39830, 37126, 35972, 34182, 28988, 19630, 11292, 7125, 5203, 6838, 10317, 18850, 33222, 38822, 33011, 27267, 25128, 25697, 26054, 28542, 30052, 31673, 37989, 42711, 41592, 40209, 39412, 38956, 34537, 25447, 15675, 9922, 7143, 8021, 10642, 19013, 32653, 38869, 34275, 28450, 27096, 27849, 28606, 30539, 32869, 34358, 40089, 45299, 47819, 45454, 44067, 45099, 45253, 40437, 31215, 21893, 16351, 12738, 9902, 11653, 15744, 21956, 27559, 33160, 37198, 39189, 40105, 40363, 40881, 42935, 47712, 50727, 52429, 49847, 46645, 45995, 46581, 43261, 34847, 24553, 17281, 13006, 9199, 10261, 12874, 16765, 23314, 29051, 32309, 32851, 32722, 32936, 33476, 34880, 36197, 36610, 33411, 30828, 29397, 26875, 21808, 14359, 8200, 5551, 4888, 7227, 11291, 19422, 32701, 37156, 35311, 28506, 25239, 24828, 24954, 26563, 28063, 29304, 34300, 37080, 34775, 32058, 30716, 29456, 23395, 15305, 8910, 5576, 4463, 6133, 9850, 18509, 32795, 37763, 31881, 25581, 23687, 24210, 25607, 27466, 28755, 29776, 35583, 37898, 38487, 36394, 35562, 35334, 28588, 18128, 10514, 6476, 5085, 6642, 10412, 19910, 35861, 41998, 36496, 29639, 27923, 28024, 27832, 30164, 31479, 33995, 40583, 45178, 44857, 41882, 40456, 39560, 33234, 23418, 12970, 7585, 5713, 7053, 10871, 20221, 35160, 42633, 36754, 29639, 27832, 27399, 28062, 30168, 31825, 34440, 40013, 45349, 45816, 43553, 43732, 42467, 38846, 31003, 20136, 11856, 8620, 8977, 11409, 19921, 33926, 41015, 36888, 31091, 29214, 29179, 30132, 32450, 35908, 35841, 38606, 47061, 52040, 49791, 47535, 48969, 48521, 43435, 34898, 24364, 16969, 12882, 10449, 11859, 16438, 22327, 27084, 30369, 33180, 33854, 35119, 36120, 37384, 38828, 42881, 47345, 49843, 48698, 46476, 47880, 48458, 45963, 39325, 29282, 21495, 15659, 10735, 10772, 12961, 16714, 22838, 28428, 31238, 32270, 32589, 32941, 33143, 34535, 35780, 36134, 35227, 31985, 30538, 28215, 22898, 15361, 9762, 6754, 5592, 7365, 10834, 18749, 31661, 36256, 31149, 26024, 24252, 24311, 24581, 26000, 26863, 28805, 33489, 35831, 34358, 31803, 30468, 28502, 23178, 15976, 9897, 6518, 5473, 7067, 10468, 18362, 31618, 35935, 30737, 25363, 23940, 24182, 25429, 26485, 27314, 29549, 33962, 35913, 35432, 33817, 33279, 32143, 26415, 18191, 11102, 7383, 6329, 7775, 11038, 18757, 32316, 36553, 31711, 26410, 25752, 25705, 26222, 28189, 29312, 31243, 36143, 38856, 39092, 36218, 35432, 34890, 29120, 19691, 12689, 8265, 7026, 8454, 11400, 18624, 31959, 36385, 31618, 26952, 25988, 26580, 26987, 28773, 29953, 32322, 36704, 40417, 39643, 36966, 36352, 35729, 31711, 22802, 15360, 10533, 9023, 9745, 11854, 18052, 29098, 33829, 30498, 27390, 27199, 27806, 29309, 30365, 31241, 32555, 35855, 37949, 37449, 33995, 33720, 34855, 34132, 28927, 23032, 17602, 14078, 12309, 11020, 12505, 14657, 19018, 24582, 28027, 32289, 33509, 31407, 28666, 28541, 29330, 31188, 37350, 35760, 30932, 29378, 29607, 28753, 24473, 19088, 14963, 12441, 10893, 9195, 9998, 12093, 14539, 19208, 22493, 23893, 24728, 24829, 26235, 27401, 28694, 30929, 32312, 32121, 31275, 31064, 30304, 28473, 24740, 21682, 16106, 11710, 9171, 7663, 8336, 8571, 8929, 10818, 13800, 16794, 18625, 20395, 22290, 23721, 24638, 25925, 26524, 26245, 25929, 26075, 25052, 21288, 14475, 9432, 6204, 4903, 5479, 7578, 11353, 16025, 20745, 20727, 20617, 21948, 22715, 23606, 24540, 25656, 27337, 30005, 30685, 28214, 26184, 25962, 23833, 19453, 13620, 8586, 5860, 4978, 5756, 8231, 12718, 18312, 25664, 24744, 24060, 24202, 25690, 26282, 27210, 28345, 30017, 33989, 35108, 33797, 30846, 30945, 29327, 25082, 16642, 10944, 7139, 5835, 6487, 8786, 13873, 20031, 27849, 28754, 26582, 27946, 28953, 29917, 31385, 32425, 34838, 39819, 40196, 38602, 34786, 34766, 32822, 28134, 19924, 13650, 9359, 7715, 7687, 9821, 14516, 21277, 28596, 28841, 28266, 29305, 30794, 31743, 32496, 34800, 36059, 39884, 42537, 42107, 38584, 38279, 38792, 37301, 30382, 23602, 17577, 14455, 11766, 9471, 10709, 12739, 16617, 21944, 25448, 28916, 30549, 31640, 30927, 31570, 33276, 35887, 37986, 38741, 35218, 35532, 36926, 36238, 29760, 23247, 17320, 13948, 10910, 8179, 9021, 11169, 14283, 19634, 24446, 26745, 28669, 30844, 31831, 33838, 35848, 41100, 47326, 57481, 62939, 64419, 58441]\n",
      "Size on Arrary 743\n"
     ]
    },
    {
     "data": {
      "text/plain": [
       "743"
      ]
     },
     "execution_count": 4,
     "metadata": {},
     "output_type": "execute_result"
    }
   ],
   "source": [
    "outFrame = {}\n",
    "inputFile = \"sorted_fhv_tripdata_2017-12.csv\"\n",
    "samplePeriodInMinutes = 60\n",
    "#numberOfSamples = 4*24*31    #all sample for a month 2880\n",
    "numberOfSamples = 10000    #all sample for a month 2880\n",
    "\n",
    "processCSV(inputFile,outFrame,samplePeriodInMinutes,numberOfSamples)\n",
    "#outFrame.head()"
   ]
  },
  {
   "cell_type": "code",
   "execution_count": null,
   "metadata": {},
   "outputs": [],
   "source": [
    "print (type(outFrame[\"StartAsString\"]))"
   ]
  },
  {
   "cell_type": "code",
   "execution_count": 5,
   "metadata": {},
   "outputs": [],
   "source": [
    "outList =  list(zip (outFrame[\"StartAsString\"], outFrame[\"NumberOfRequest\"]))\n",
    "outputDataFrame = pd.DataFrame(outList, columns=[\"StartTime\",\"NumberOfRequests\"])\n",
    "outCSVFile = \"SampleTime-60-NumberOfSamples-743.csv\"\n",
    "outputDataFrame.to_csv(outCSVFile, encoding=\"utf-8\")\n"
   ]
  },
  {
   "cell_type": "code",
   "execution_count": 7,
   "metadata": {},
   "outputs": [
    {
     "name": "stdout",
     "output_type": "stream",
     "text": [
      "1.0\n"
     ]
    },
    {
     "data": {
      "text/html": [
       "<div>\n",
       "<style scoped>\n",
       "    .dataframe tbody tr th:only-of-type {\n",
       "        vertical-align: middle;\n",
       "    }\n",
       "\n",
       "    .dataframe tbody tr th {\n",
       "        vertical-align: top;\n",
       "    }\n",
       "\n",
       "    .dataframe thead th {\n",
       "        text-align: right;\n",
       "    }\n",
       "</style>\n",
       "<table border=\"1\" class=\"dataframe\">\n",
       "  <thead>\n",
       "    <tr style=\"text-align: right;\">\n",
       "      <th></th>\n",
       "      <th>Unnamed: 0</th>\n",
       "      <th>StartTime</th>\n",
       "      <th>NumberOfRequests</th>\n",
       "      <th>Multiplier</th>\n",
       "    </tr>\n",
       "  </thead>\n",
       "  <tbody>\n",
       "    <tr>\n",
       "      <th>0</th>\n",
       "      <td>0</td>\n",
       "      <td>2017-12-01 01:00:01</td>\n",
       "      <td>22056</td>\n",
       "      <td>3.7</td>\n",
       "    </tr>\n",
       "    <tr>\n",
       "      <th>1</th>\n",
       "      <td>1</td>\n",
       "      <td>2017-12-01 02:00:02</td>\n",
       "      <td>13276</td>\n",
       "      <td>2.3</td>\n",
       "    </tr>\n",
       "    <tr>\n",
       "      <th>2</th>\n",
       "      <td>2</td>\n",
       "      <td>2017-12-01 03:00:03</td>\n",
       "      <td>8895</td>\n",
       "      <td>1.7</td>\n",
       "    </tr>\n",
       "    <tr>\n",
       "      <th>3</th>\n",
       "      <td>3</td>\n",
       "      <td>2017-12-01 04:00:04</td>\n",
       "      <td>6491</td>\n",
       "      <td>1.3</td>\n",
       "    </tr>\n",
       "    <tr>\n",
       "      <th>4</th>\n",
       "      <td>4</td>\n",
       "      <td>2017-12-01 05:00:05</td>\n",
       "      <td>7542</td>\n",
       "      <td>1.5</td>\n",
       "    </tr>\n",
       "  </tbody>\n",
       "</table>\n",
       "</div>"
      ],
      "text/plain": [
       "   Unnamed: 0            StartTime  NumberOfRequests  Multiplier\n",
       "0           0  2017-12-01 01:00:01             22056         3.7\n",
       "1           1  2017-12-01 02:00:02             13276         2.3\n",
       "2           2  2017-12-01 03:00:03              8895         1.7\n",
       "3           3  2017-12-01 04:00:04              6491         1.3\n",
       "4           4  2017-12-01 05:00:05              7542         1.5"
      ]
     },
     "execution_count": 7,
     "metadata": {},
     "output_type": "execute_result"
    }
   ],
   "source": [
    "#add to multiplier\n",
    "from numpy import interp\n",
    "dfMul = pd.read_csv(\"SampleTime-60-NumberOfSamples-743.csv\")\n",
    "#print( dfMul.max() )\n",
    "#print( dfMul.min() )\n",
    "dfMin = 4283\n",
    "dfMax = 64419\n",
    "multiplierList = []\n",
    "print (round(interp(1,[dfMin,dfMax],[1,10]) , 1))\n",
    "for index, row in dfMul.iterrows():\n",
    "    multiplierList.append(round(interp(row[\"NumberOfRequests\"],[dfMin,dfMax],[1,10]) , 1))\n",
    "dfMul[\"Multiplier\"] = multiplierList\n",
    "dfMul.to_csv(\"Multiplier-SampleTime-60-NumberOfSamples-743.csv\",encoding=\"utf-8\")\n",
    "dfMul.head()\n",
    "               "
   ]
  },
  {
   "cell_type": "code",
   "execution_count": null,
   "metadata": {},
   "outputs": [],
   "source": []
  }
 ],
 "metadata": {
  "kernelspec": {
   "display_name": "Python 3",
   "language": "python",
   "name": "python3"
  },
  "language_info": {
   "codemirror_mode": {
    "name": "ipython",
    "version": 3
   },
   "file_extension": ".py",
   "mimetype": "text/x-python",
   "name": "python",
   "nbconvert_exporter": "python",
   "pygments_lexer": "ipython3",
   "version": "3.6.4"
  }
 },
 "nbformat": 4,
 "nbformat_minor": 2
}
